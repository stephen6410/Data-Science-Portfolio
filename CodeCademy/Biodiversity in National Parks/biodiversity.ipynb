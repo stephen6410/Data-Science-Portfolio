{
 "cells": [
  {
   "cell_type": "markdown",
   "metadata": {},
   "source": [
    "# Introduction"
   ]
  },
  {
   "cell_type": "markdown",
   "metadata": {},
   "source": [
    "This project will analyze biodiversity data from the National Parks Service and answer questions including:\n",
    "\n",
    "- **How many of each Class are in each conservation status?**\n",
    "- **What percent of each Class is \"declining\"?**\n",
    "- **Which species were most frequently observed?**\n",
    "- **What is the rarest bird to spot at each park?**\n",
    "- **Where are Canids most likely to be spotted?**"
   ]
  },
  {
   "cell_type": "markdown",
   "metadata": {},
   "source": [
    "### Data sources\n",
    "\n",
    "Both `observations.csv` and `species_info.csv` was provided by [Codecademy.com](https://www.codecademy.com).\n",
    "\n",
    "Note: The data for this project is *inspired* by real data, but is mostly fictional."
   ]
  },
  {
   "cell_type": "markdown",
   "metadata": {},
   "source": [
    "# Load the Data"
   ]
  },
  {
   "cell_type": "markdown",
   "metadata": {},
   "source": [
    "For this project, import the necessary python modules."
   ]
  },
  {
   "cell_type": "code",
   "execution_count": 309,
   "metadata": {},
   "outputs": [],
   "source": [
    "import pandas as pd\n",
    "import numpy as np\n",
    "from matplotlib import pyplot as plt\n",
    "import seaborn as sns"
   ]
  },
  {
   "cell_type": "markdown",
   "metadata": {},
   "source": [
    "Load the datasets, `species_info` and `observations`, into the DataFrames `spe` and `obs`."
   ]
  },
  {
   "cell_type": "code",
   "execution_count": 310,
   "metadata": {},
   "outputs": [],
   "source": [
    "spe = pd.read_csv(\"species_info.csv\")\n",
    "obs = pd.read_csv(\"observations.csv\")"
   ]
  },
  {
   "cell_type": "markdown",
   "metadata": {},
   "source": [
    "# Explore the DataFrames"
   ]
  },
  {
   "cell_type": "markdown",
   "metadata": {},
   "source": [
    "### Species\n",
    "\n",
    "`spe`'s four columns give the following information:\n",
    "- **category** - The category of taxonomy for each species\n",
    "- **scientific_name** - The scientific name of each species\n",
    "- **common_names** - The common names of each species\n",
    "- **conservation_status** - The species conservation status\n",
    "\n",
    "With `.head()`, peek at just the first five of 5824 rows."
   ]
  },
  {
   "cell_type": "code",
   "execution_count": 311,
   "metadata": {
    "scrolled": true
   },
   "outputs": [
    {
     "name": "stdout",
     "output_type": "stream",
     "text": [
      "species_info dataframe (rows, columns): (5824, 4)\n",
      "  category                scientific_name  \\\n",
      "0   Mammal  Clethrionomys gapperi gapperi   \n",
      "1   Mammal                      Bos bison   \n",
      "2   Mammal                     Bos taurus   \n",
      "3   Mammal                     Ovis aries   \n",
      "4   Mammal                 Cervus elaphus   \n",
      "\n",
      "                                        common_names conservation_status  \n",
      "0                           Gapper's Red-Backed Vole                 NaN  \n",
      "1                              American Bison, Bison                 NaN  \n",
      "2  Aurochs, Aurochs, Domestic Cattle (Feral), Dom...                 NaN  \n",
      "3  Domestic Sheep, Mouflon, Red Sheep, Sheep (Feral)                 NaN  \n",
      "4                                      Wapiti Or Elk                 NaN  \n"
     ]
    }
   ],
   "source": [
    "print(f\"species_info dataframe (rows, columns): {spe.shape}\")\n",
    "print(spe.head())"
   ]
  },
  {
   "cell_type": "markdown",
   "metadata": {},
   "source": [
    "### Observations\n",
    "\n",
    "The `obs` *also* has a **scientific_name** column, containing similar information.\n",
    "\n",
    "Here are the other two columns:\n",
    "- **park_name** - The name of the national park\n",
    "- **observations** - The number of observations in the past 7 days\n",
    "\n",
    "With 23296 rows, `obs` is much longer than `spe`."
   ]
  },
  {
   "cell_type": "code",
   "execution_count": 312,
   "metadata": {
    "scrolled": true
   },
   "outputs": [
    {
     "name": "stdout",
     "output_type": "stream",
     "text": [
      "observations dataframe (rows, columns): (23296, 3)\n",
      "            scientific_name                            park_name  observations\n",
      "0        Vicia benghalensis  Great Smoky Mountains National Park            68\n",
      "1            Neovison vison  Great Smoky Mountains National Park            77\n",
      "2         Prunus subcordata               Yosemite National Park           138\n",
      "3      Abutilon theophrasti                  Bryce National Park            84\n",
      "4  Githopsis specularioides  Great Smoky Mountains National Park            85\n"
     ]
    }
   ],
   "source": [
    "print(f\"observations dataframe (rows, columns): {obs.shape}\")\n",
    "print(obs.head())"
   ]
  },
  {
   "cell_type": "markdown",
   "metadata": {},
   "source": [
    "# Explore the Columns"
   ]
  },
  {
   "cell_type": "markdown",
   "metadata": {},
   "source": [
    "### Species\n",
    "\n",
    "The `category` column contains seven unique Classes of living things; five animals and two plants.\n",
    "\n",
    "`Vascular Plant` dominates the column, while `Bird` is easily the most frequent animal."
   ]
  },
  {
   "cell_type": "code",
   "execution_count": 313,
   "metadata": {},
   "outputs": [
    {
     "name": "stdout",
     "output_type": "stream",
     "text": [
      "['Mammal' 'Bird' 'Reptile' 'Amphibian' 'Fish' 'Vascular Plant'\n",
      " 'Nonvascular Plant']\n",
      "category\n",
      "Amphibian              80\n",
      "Bird                  521\n",
      "Fish                  127\n",
      "Mammal                214\n",
      "Nonvascular Plant     333\n",
      "Reptile                79\n",
      "Vascular Plant       4470\n",
      "dtype: int64\n"
     ]
    }
   ],
   "source": [
    "print(spe['category'].unique())\n",
    "print(spe.groupby('category').size())"
   ]
  },
  {
   "cell_type": "markdown",
   "metadata": {},
   "source": [
    "The `conservation_status` column, displays four status levels:\n",
    "- **Species of Concern** - The species may soon be threatened\n",
    "- **Threatened** - The species is declining toward endangerment\n",
    "- **Endangered** - The species is declining toward extinction\n",
    "- **In Recovery** - The species, previously endangered, is being protected by recovery plans\n",
    "\n",
    "The column is also littered with null or NaN values, which represent species not at risk (labeled \"No Concern\" later in this project)."
   ]
  },
  {
   "cell_type": "code",
   "execution_count": 314,
   "metadata": {
    "scrolled": true
   },
   "outputs": [
    {
     "name": "stdout",
     "output_type": "stream",
     "text": [
      "[nan 'Species of Concern' 'Endangered' 'Threatened' 'In Recovery']\n",
      "conservation_status\n",
      "Endangered             16\n",
      "In Recovery             4\n",
      "Species of Concern    161\n",
      "Threatened             10\n",
      "dtype: int64\n"
     ]
    }
   ],
   "source": [
    "print(spe['conservation_status'].unique())\n",
    "print(spe.groupby('conservation_status').size())"
   ]
  },
  {
   "cell_type": "markdown",
   "metadata": {},
   "source": [
    "### Observations\n",
    "\n",
    "The `park_name` column contains four National Parks.\n",
    "\n",
    "Each park has the same number of references, 5824, which is also how many species are in `spe`. It seems as though each park may have an observation row for each species."
   ]
  },
  {
   "cell_type": "code",
   "execution_count": 315,
   "metadata": {},
   "outputs": [
    {
     "name": "stdout",
     "output_type": "stream",
     "text": [
      "['Great Smoky Mountains National Park' 'Yosemite National Park'\n",
      " 'Bryce National Park' 'Yellowstone National Park']\n",
      "park_name\n",
      "Bryce National Park                    5824\n",
      "Great Smoky Mountains National Park    5824\n",
      "Yellowstone National Park              5824\n",
      "Yosemite National Park                 5824\n",
      "dtype: int64\n"
     ]
    }
   ],
   "source": [
    "print(obs['park_name'].unique())\n",
    "print(obs.groupby('park_name').size())"
   ]
  },
  {
   "cell_type": "markdown",
   "metadata": {},
   "source": [
    "The `observations` column contains numbers from 9 to 321, with half of the numbers located between 86 and 195.\n",
    "\n",
    "Over the last 7 days, there were over 3.3 million total sightings across the four National Parks!"
   ]
  },
  {
   "cell_type": "code",
   "execution_count": 316,
   "metadata": {},
   "outputs": [
    {
     "name": "stdout",
     "output_type": "stream",
     "text": [
      "Some summary statistics of the observations column:\n",
      "Min:    9\n",
      "Max:    321\n",
      "Mean:   142.28790350274724\n",
      "Median: 124.0\n",
      "IQR:    from 86.0 to 195.0\n",
      "Sum:    3314739\n"
     ]
    }
   ],
   "source": [
    "print(\"Some summary statistics of the observations column:\")\n",
    "print(f\"Min:    {obs['observations'].min()}\")\n",
    "print(f\"Max:    {obs['observations'].max()}\")\n",
    "print(f\"Mean:   {obs['observations'].mean()}\")\n",
    "print(f\"Median: {obs['observations'].median()}\")\n",
    "q3, q1 = np.percentile(obs['observations'], [75, 25])\n",
    "print(f\"IQR:    from {q1} to {q3}\")\n",
    "print(f\"Sum:    {obs['observations'].sum()}\")"
   ]
  },
  {
   "cell_type": "markdown",
   "metadata": {},
   "source": [
    "# Wrangle the Data"
   ]
  },
  {
   "cell_type": "markdown",
   "metadata": {},
   "source": [
    "The aforementioned crowd of NaN values in the `observation` column would be easier to work with as actual values.\n",
    "\n",
    "Below, the null values are replaced with 'No Concern'. 5633 of the 5824 species are not at risk."
   ]
  },
  {
   "cell_type": "code",
   "execution_count": 317,
   "metadata": {},
   "outputs": [
    {
     "name": "stdout",
     "output_type": "stream",
     "text": [
      "['No Concern' 'Species of Concern' 'Endangered' 'Threatened' 'In Recovery']\n",
      "conservation_status\n",
      "Endangered              16\n",
      "In Recovery              4\n",
      "No Concern            5633\n",
      "Species of Concern     161\n",
      "Threatened              10\n",
      "dtype: int64\n"
     ]
    }
   ],
   "source": [
    "spe['conservation_status'].fillna('No Concern', inplace=True)\n",
    "print(spe['conservation_status'].unique())\n",
    "print(spe.groupby('conservation_status').size())"
   ]
  },
  {
   "cell_type": "markdown",
   "metadata": {},
   "source": [
    "# Analyze the Data"
   ]
  },
  {
   "cell_type": "markdown",
   "metadata": {},
   "source": [
    "### How many of each Class are in each conservation status?\n",
    "\n",
    "Of the 16 endangered species, 7 were mammals, and 4 were birds. There were only 2 Classes in recovery, 3 birds and 1 mammal."
   ]
  },
  {
   "cell_type": "code",
   "execution_count": 318,
   "metadata": {},
   "outputs": [
    {
     "data": {
      "image/png": "[encoded data removed]",
      "text/plain": [
       "<Figure size 576x432 with 1 Axes>"
      ]
     },
     "metadata": {
      "needs_background": "light"
     },
     "output_type": "display_data"
    }
   ],
   "source": [
    "cons_by_cat = spe[spe.conservation_status != \"No Concern\"]\\\n",
    "    .groupby([\"conservation_status\", \"category\"])['scientific_name']\\\n",
    "    .count()\\\n",
    "    .unstack()\n",
    "\n",
    "ax = cons_by_cat.plot(kind = 'bar', figsize=(8,6), color=['plum', 'powderblue', 'steelblue', 'peru', 'forestgreen', 'indianred', 'mediumseagreen'], stacked=True)\n",
    "ax.set_xticklabels(ax.get_xticklabels(), rotation=30, ha=\"right\")\n",
    "ax.set_facecolor('bisque')\n",
    "ax.set_xlabel(\"Conservation Status\")\n",
    "ax.set_ylabel(\"Number of Species\");"
   ]
  },
  {
   "cell_type": "markdown",
   "metadata": {},
   "source": [
    "### What percent of each Class is \"declining\"?\n",
    "\n",
    "Here, \"declining\" will mean species listed as 'Endangered', 'Threatened', or a 'Species of Concern'.\n",
    "\n",
    "Each Class population in our data is different. For example, there are more than twice as many birds as mammals. To see if any one Class is more vulnerable than another, percentages have been factored into the chart below.\n",
    "\n",
    "While there are more birds declining, there is a slightly higher percentage of mammals declining."
   ]
  },
  {
   "cell_type": "code",
   "execution_count": 319,
   "metadata": {},
   "outputs": [
    {
     "data": {
      "image/png": "[encoded data removed]",
      "text/plain": [
       "<Figure size 576x432 with 1 Axes>"
      ]
     },
     "metadata": {
      "needs_background": "light"
     },
     "output_type": "display_data"
    }
   ],
   "source": [
    "concern = pd.DataFrame()\n",
    "\n",
    "concern['count'] = spe.groupby('category').size()\n",
    "\n",
    "concern['danger_count'] = spe.loc[spe['conservation_status']\\\n",
    "    .isin(['Endangered', 'Threatened', 'Species of Concern'])]\\\n",
    "    .groupby(['category'])['scientific_name'].count()\n",
    "\n",
    "concern['danger_perc'] = (concern['danger_count'] / concern['count']) * 100\n",
    "\n",
    "ax = concern['danger_perc'].plot(kind = 'bar', figsize=(8,6), color='steelblue')\n",
    "ax.set_xticklabels(ax.get_xticklabels(), rotation=30, ha=\"right\")\n",
    "ax.set_facecolor('bisque')\n",
    "ax.set_xlabel(\"Species\")\n",
    "ax.set_ylabel(\"Percent Declining\");"
   ]
  },
  {
   "cell_type": "markdown",
   "metadata": {},
   "source": [
    "### Which species were most frequently observed?\n",
    "\n",
    "Below, information from `spe` is merged with `obs` and sorted by the number of `observations`.\n",
    "\n",
    "The top five species are all Vascular Plants from Yellowstone."
   ]
  },
  {
   "cell_type": "code",
   "execution_count": 329,
   "metadata": {
    "scrolled": true
   },
   "outputs": [
    {
     "name": "stdout",
     "output_type": "stream",
     "text": [
      "                 scientific_name                  park_name  observations  \\\n",
      "12447     Lycopodium tristachyum  Yellowstone National Park           321   \n",
      "1299          Castilleja miniata  Yellowstone National Park           317   \n",
      "22819        Cryptantha fendleri  Yellowstone National Park           316   \n",
      "9637   Dracocephalum parviflorum  Yellowstone National Park           316   \n",
      "7822           Bidens tripartita  Yellowstone National Park           314   \n",
      "\n",
      "                                            common_names        category  \n",
      "12447                   Deep-Root Clubmoss, Ground Cedar  Vascular Plant  \n",
      "1299   Giant Red Indian Paintbrush, Great Red Indian ...  Vascular Plant  \n",
      "22819  Fendler's Cryptantha, Sanddune Catseye, Sanddu...  Vascular Plant  \n",
      "9637                                 American Dragonhead  Vascular Plant  \n",
      "7822                Stick-Tight, Three-Lobe Beggar-Ticks  Vascular Plant  \n"
     ]
    }
   ],
   "source": [
    "freq_obs = obs.merge(spe[['scientific_name','common_names', 'category']], on='scientific_name', how='left')\n",
    "\n",
    "print(freq_obs.sort_values(by='observations', ascending=False).head())"
   ]
  },
  {
   "cell_type": "markdown",
   "metadata": {},
   "source": [
    "### What is the rarest bird to find at each park?\n",
    "\n",
    "While there are only 11 Spotted Owls in the Great Smoky Mountains, the Whooping Crane proves difficult to find in both Yosemite and Yellowstone."
   ]
  },
  {
   "cell_type": "code",
   "execution_count": 367,
   "metadata": {},
   "outputs": [
    {
     "name": "stdout",
     "output_type": "stream",
     "text": [
      "Rarest birds by park:\n",
      "11 Spotted Owls in Great Smoky Mountains National Park\n",
      "37 Whooping Cranes in Yosemite National Park\n",
      "20 Bachman's Warbler, Bachman's Wood Warblers in Bryce National Park\n",
      "57 Whooping Cranes in Yellowstone National Park\n"
     ]
    }
   ],
   "source": [
    "rare_birds = obs.merge(spe[['scientific_name','common_names', 'category']], on='scientific_name', how='left')\n",
    "parks = ['Great Smoky Mountains National Park', 'Yosemite National Park',\n",
    " 'Bryce National Park', 'Yellowstone National Park']\n",
    "\n",
    "print(\"Rarest birds by park:\")\n",
    "\n",
    "for park in parks:\n",
    "    row = rare_birds.loc[(rare_birds['category'] == 'Bird') & (rare_birds['park_name'] == park)]\n",
    "    i = row['observations'].idxmin()\n",
    "    print(f\"{row['observations'][i]} {row['common_names'][i]}s in {park}\")"
   ]
  },
  {
   "cell_type": "markdown",
   "metadata": {},
   "source": [
    "### Canis Genus observations by park\n",
    "\n",
    "Canids are dog-like carnivores. Below are all of the species of the Canis genus in the `spe` DataFrame.\n",
    "\n",
    "Notice that all species are of conservation concern, including three endangered."
   ]
  },
  {
   "cell_type": "code",
   "execution_count": 320,
   "metadata": {},
   "outputs": [
    {
     "name": "stdout",
     "output_type": "stream",
     "text": [
      "     category scientific_name     common_names conservation_status\n",
      "7      Mammal   Canis latrans           Coyote  Species of Concern\n",
      "8      Mammal     Canis lupus        Gray Wolf          Endangered\n",
      "9      Mammal     Canis rufus         Red Wolf          Endangered\n",
      "3020   Mammal     Canis lupus  Gray Wolf, Wolf         In Recovery\n",
      "4448   Mammal     Canis lupus  Gray Wolf, Wolf          Endangered\n"
     ]
    }
   ],
   "source": [
    "all_canids = spe[spe['scientific_name'].str.contains(\"Canis\")]\n",
    "print(all_canids)"
   ]
  },
  {
   "cell_type": "markdown",
   "metadata": {},
   "source": [
    "With a new, merged DataFrame, it is easier to see which parks have the most Canis sightings.\n",
    "\n",
    "When sorted by observations, the DataFrame shows Yellowstone as the clear front runner."
   ]
  },
  {
   "cell_type": "code",
   "execution_count": 321,
   "metadata": {},
   "outputs": [
    {
     "name": "stdout",
     "output_type": "stream",
     "text": [
      "   scientific_name    park_name  observations conservation_status\n",
      "1    Canis latrans  Yellowstone           206  Species of Concern\n",
      "27     Canis lupus  Yellowstone           203         In Recovery\n",
      "39     Canis lupus  Yellowstone           203          Endangered\n",
      "11     Canis lupus  Yellowstone           203          Endangered\n",
      "29     Canis lupus     Yosemite           117         In Recovery\n"
     ]
    }
   ],
   "source": [
    "canis_obs = obs.merge(all_canids[['scientific_name','conservation_status']], on='scientific_name', how='right')\n",
    "\n",
    "canis_obs = canis_obs.replace(\" National Park\", \"\", regex=True)\n",
    "\n",
    "print(canis_obs.sort_values(by='observations', ascending=False).head())"
   ]
  },
  {
   "cell_type": "markdown",
   "metadata": {},
   "source": [
    "The chart below shows just how many more Canids were spotted in Yellowstone than in the other parks! "
   ]
  },
  {
   "cell_type": "code",
   "execution_count": 323,
   "metadata": {
    "scrolled": true
   },
   "outputs": [
    {
     "data": {
      "image/png": "[encoded data removed]",
      "text/plain": [
       "<Figure size 576x432 with 1 Axes>"
      ]
     },
     "metadata": {
      "needs_background": "light"
     },
     "output_type": "display_data"
    }
   ],
   "source": [
    "df = canis_obs.groupby(['park_name', 'conservation_status'])['observations'].sum().unstack()\n",
    "\n",
    "ax = df.plot(kind = 'bar', figsize=(8,6), stacked=True, color=['indianred', 'steelblue', 'lightpink'])\n",
    "ax.set_xticklabels(ax.get_xticklabels(), rotation=30, ha=\"right\")\n",
    "ax.set_facecolor('bisque')\n",
    "ax.set_xlabel(\"Parks\")\n",
    "ax.set_ylabel(\"Observations\");"
   ]
  },
  {
   "cell_type": "markdown",
   "metadata": {},
   "source": [
    "# Conclusions"
   ]
  },
  {
   "cell_type": "markdown",
   "metadata": {},
   "source": [
    "The project was able to make several data visualizations and inferences about the various species in four of the National Parks that comprised this data set.\n",
    "\n",
    "This project answered many questions with special attention to those posed in the introduction:\n",
    "\n",
    "- **How many of each Class are in each conservation status?**\n",
    "\n",
    "        There were more Birds than any other Class, especially of the \"Species of Concern\" status.\n",
    "\n",
    "- **What percent of each Class is \"declining\"?**\n",
    "\n",
    "        Mammals and Birds had the highest percentage of declining species.\n",
    "        \n",
    "- **Which species were most frequently observed?**\n",
    "        \n",
    "        The top five species are all Vascular Plants from Yellowstone.\n",
    "        \n",
    "- **What is the rarest bird to spot at each park?**\n",
    "\n",
    "        The Spotted Owl in the Great Smoky Mountains is the hardest to find.\n",
    "\n",
    "- **Where are Canids most likely to be spotted?**\n",
    "\n",
    "        Canids are most likely to be seen at Yellowstone National Park."
   ]
  },
  {
   "cell_type": "markdown",
   "metadata": {},
   "source": [
    "# Further Research"
   ]
  },
  {
   "cell_type": "markdown",
   "metadata": {},
   "source": [
    "- The observations dataset does not give any information about the size of the parks or how many visitors were there. Of the four parks observed, Yellowstone covers the most area, but the Great Smoky Mountains attract more visitors. Factors such as these could have an affect on species sightings.\n",
    "\n",
    "- Additionally, it only records information from a single week. It would be interesting to see how the number of observations changes, perhaps as the conservation statuses change.\n",
    "\n",
    "- Finally, the in-depth analysis done on Canids could be replicated for any number of the other categories of animals and plants!"
   ]
  }
 ],
 "metadata": {
  "kernelspec": {
   "display_name": "Python 3 (ipykernel)",
   "language": "python",
   "name": "python3"
  },
  "language_info": {
   "codemirror_mode": {
    "name": "ipython",
    "version": 3
   },
   "file_extension": ".py",
   "mimetype": "text/x-python",
   "name": "python",
   "nbconvert_exporter": "python",
   "pygments_lexer": "ipython3",
   "version": "3.9.12"
  }
 },
 "nbformat": 4,
 "nbformat_minor": 4
}
